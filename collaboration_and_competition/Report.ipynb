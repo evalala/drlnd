{
 "cells": [
  {
   "cell_type": "markdown",
   "metadata": {},
   "source": [
    "# Collaboration and Competition\n",
    "\n",
    "---\n",
    "\n",
    "This report shows the results of training two agents to solve the Tennis environment using the Deep Deterministic Policy Gradient algorithm. \n",
    "\n",
    "### 1. Start the Environment\n",
    "\n",
    "Run the next code cell to install a few packages.  This line will take a few minutes to run!"
   ]
  },
  {
   "cell_type": "code",
   "execution_count": 1,
   "metadata": {},
   "outputs": [],
   "source": [
    "!pip -q install ./python"
   ]
  },
  {
   "cell_type": "markdown",
   "metadata": {},
   "source": [
    "Import the necessary libraries."
   ]
  },
  {
   "cell_type": "code",
   "execution_count": 2,
   "metadata": {},
   "outputs": [],
   "source": [
    "from unityagents import UnityEnvironment\n",
    "import numpy as np\n",
    "\n",
    "from collections import deque\n",
    "import torch\n",
    "import pickle\n",
    "\n",
    "import matplotlib.pyplot as plt\n",
    "%matplotlib inline\n",
    "\n",
    "from ddpg_agent import AgentParallel\n",
    "from train import train"
   ]
  },
  {
   "cell_type": "markdown",
   "metadata": {},
   "source": [
    "Load the environment."
   ]
  },
  {
   "cell_type": "code",
   "execution_count": 3,
   "metadata": {},
   "outputs": [
    {
     "name": "stderr",
     "output_type": "stream",
     "text": [
      "INFO:unityagents:\n",
      "'Academy' started successfully!\n",
      "Unity Academy name: Academy\n",
      "        Number of Brains: 1\n",
      "        Number of External Brains : 1\n",
      "        Lesson number : 0\n",
      "        Reset Parameters :\n",
      "\t\t\n",
      "Unity brain name: TennisBrain\n",
      "        Number of Visual Observations (per agent): 0\n",
      "        Vector Observation space type: continuous\n",
      "        Vector Observation space size (per agent): 8\n",
      "        Number of stacked Vector Observation: 3\n",
      "        Vector Action space type: continuous\n",
      "        Vector Action space size (per agent): 2\n",
      "        Vector Action descriptions: , \n"
     ]
    }
   ],
   "source": [
    "#insert the correct path\n",
    "env = UnityEnvironment(file_name=\"/data/Tennis_Linux_NoVis/Tennis\")"
   ]
  },
  {
   "cell_type": "code",
   "execution_count": 4,
   "metadata": {},
   "outputs": [],
   "source": [
    "# get the default brain\n",
    "brain_name = env.brain_names[0]\n",
    "brain = env.brains[brain_name]"
   ]
  },
  {
   "cell_type": "markdown",
   "metadata": {},
   "source": [
    "Set a random seed to make experiments reproducible."
   ]
  },
  {
   "cell_type": "code",
   "execution_count": 5,
   "metadata": {},
   "outputs": [],
   "source": [
    "seed = 0"
   ]
  },
  {
   "cell_type": "markdown",
   "metadata": {},
   "source": [
    "### 2. Examine the State and Action Spaces\n",
    "\n",
    "Run the code cell below to print some information about the environment."
   ]
  },
  {
   "cell_type": "code",
   "execution_count": 6,
   "metadata": {},
   "outputs": [
    {
     "name": "stdout",
     "output_type": "stream",
     "text": [
      "Number of agents: 2\n",
      "Size of each action: 2\n",
      "There are 2 agents. Each observes a state with length: 24\n",
      "The state for the first agent looks like: [ 0.          0.          0.          0.          0.          0.          0.\n",
      "  0.          0.          0.          0.          0.          0.          0.\n",
      "  0.          0.         -6.65278625 -1.5        -0.          0.\n",
      "  6.83172083  6.         -0.          0.        ]\n",
      "The state for the second agent looks like: [ 0.          0.          0.          0.          0.          0.          0.\n",
      "  0.          0.          0.          0.          0.          0.          0.\n",
      "  0.          0.         -6.4669857  -1.5         0.          0.\n",
      " -6.83172083  6.          0.          0.        ]\n"
     ]
    }
   ],
   "source": [
    "# reset the environment\n",
    "env_info = env.reset(train_mode=True)[brain_name]\n",
    "\n",
    "# number of agents \n",
    "num_agents = len(env_info.agents)\n",
    "print('Number of agents:', num_agents)\n",
    "\n",
    "# size of each action\n",
    "action_size = brain.vector_action_space_size\n",
    "print('Size of each action:', action_size)\n",
    "\n",
    "# examine the state space \n",
    "states = env_info.vector_observations\n",
    "state_size = states.shape[1]\n",
    "print('There are {} agents. Each observes a state with length: {}'.format(states.shape[0], state_size))\n",
    "print('The state for the first agent looks like:', states[0])\n",
    "print('The state for the second agent looks like:', states[1])"
   ]
  },
  {
   "cell_type": "code",
   "execution_count": 7,
   "metadata": {},
   "outputs": [],
   "source": [
    "# function to plot the scores\n",
    "def plot_scores(scores, plot_title = \"\"):\n",
    "    fig = plt.figure()\n",
    "    ax = fig.add_subplot(111)\n",
    "    plt.plot(np.arange(len(scores)), scores)\n",
    "    plt.title(plot_title)\n",
    "    plt.ylabel('Score')\n",
    "    plt.xlabel('Episode #')\n",
    "    plt.show()"
   ]
  },
  {
   "cell_type": "markdown",
   "metadata": {},
   "source": [
    "## Train the agents"
   ]
  },
  {
   "cell_type": "markdown",
   "metadata": {},
   "source": [
    "To train the agents, we use the DDPG algorithm. In DDPG, the agent uses two networks: the critic and the actor network.\n",
    "\n",
    "The critic learns the state value function $s -> V(s)$. The actor maps states to actions and learns which action to take in which state according to the optimal policy.\n",
    "\n",
    "For both nets, the input layer size corresponds to the state size. We use a net with two hidden layers, each consisting of 128 nodes and a final output layer\n",
    "In the critic net, the output layer consists of a single node corresponding to the approximated state value.\n",
    "In the actor net, the output layer size corresponds to the number of parameters needed to specify an action. The output defines the best action to take in the given state according to the current policy.\n",
    "\n",
    "The agents need to collaborate to successfully play tennis in the environment. We use the same nets for both agents. Each agent has its own observation of the state, learns the state value using the critic net, chooses an action based on the state observation using the actor net, and receives a reward. The experiences of both agents are added to the same replay buffer and used for training the critic and actor networks.\n",
    "\n",
    "To evaluate the performance, we sum up the rewards over each episode for each of the two agents without discounting.\n",
    "We then take the maximum of these two returns.\n",
    "The environment is solved one the average over 100 episodes of this maximum return is larger than 0.5.\n",
    "\n",
    "We use the following parameters for training:\n",
    "\n",
    "* BUFFER_SIZE = int(1e5)     (replay buffer size)\n",
    "* BATCH_SIZE = 256           (minibatch size)\n",
    "* GAMMA = 1                  (discount factor)\n",
    "* TAU = 1e-3                 (for soft update of target parameters)\n",
    "* LR_ACTOR = 1e-4            (learning rate of the actor)\n",
    "* LR_CRITIC = 1e-3           (learning rate of the critic)\n",
    "* WEIGHT_DECAY = 0           (L2 weight decay)\n",
    "\n",
    "* UPDATE_EVERY = 1          (number of steps between updates)\n",
    "* NUMBER_UPDATES = 2        (number of gradient updates per update)\n",
    "* ADD_NOISE = False          (whether to add noise when choosing actions)\n",
    "* EPSILON = 0.01             (scaling of noise in case ADD_NOISE = True)\n",
    "\n",
    "With these settings the agent is able to solve the environment within 937 episodes:\n"
   ]
  },
  {
   "cell_type": "code",
   "execution_count": 8,
   "metadata": {},
   "outputs": [],
   "source": [
    "agent = AgentParallel(state_size, action_size, num_agents=2, random_seed=seed)"
   ]
  },
  {
   "cell_type": "code",
   "execution_count": 9,
   "metadata": {},
   "outputs": [
    {
     "name": "stdout",
     "output_type": "stream",
     "text": [
      "Episode 100\tAverage Score: 0.03\n",
      "Episode 200\tAverage Score: 0.03\n",
      "Episode 300\tAverage Score: 0.02\n",
      "Episode 400\tAverage Score: 0.04\n",
      "Episode 500\tAverage Score: 0.06\n",
      "Episode 600\tAverage Score: 0.05\n",
      "Episode 700\tAverage Score: 0.09\n",
      "Episode 800\tAverage Score: 0.12\n",
      "Episode 900\tAverage Score: 0.14\n",
      "Episode 1000\tAverage Score: 0.28\n",
      "Episode 1037 \tScore: 2.60\n",
      "Environment solved in 937 episodes!\tAverage Score: 0.51\n",
      "Episode 1100\tAverage Score: 0.78\n",
      "Episode 1200\tAverage Score: 0.42\n",
      "Episode 1300\tAverage Score: 1.22\n"
     ]
    }
   ],
   "source": [
    "scores = train(agent, env, n_episodes = 1300, max_t = 1000, stop_when_solved=False)"
   ]
  },
  {
   "cell_type": "code",
   "execution_count": 10,
   "metadata": {
    "scrolled": true
   },
   "outputs": [
    {
     "data": {
      "image/png": "[encoded data removed]",
      "text/plain": [
       "<matplotlib.figure.Figure at 0x7f55769724e0>"
      ]
     },
     "metadata": {
      "needs_background": "light"
     },
     "output_type": "display_data"
    }
   ],
   "source": [
    "plot_scores(scores, \"Scores of a DDPG agent\")"
   ]
  },
  {
   "cell_type": "markdown",
   "metadata": {},
   "source": [
    "When finished, you can close the environment."
   ]
  },
  {
   "cell_type": "code",
   "execution_count": 11,
   "metadata": {},
   "outputs": [],
   "source": [
    "env.close()"
   ]
  },
  {
   "cell_type": "markdown",
   "metadata": {},
   "source": [
    "## Ideas for future work\n",
    "\n",
    "We trained two agents to collaboratively solve the tennis environment.\n",
    "They reached an average score of 0.5 over 100 episodes within 937 episodes.\n",
    "\n",
    "Ideas for further improvements:\n",
    "* The experiments in this notebook were done with fixed hyperparameter settings. By carrying out a random hyperparameter search, we could determine better hyperparameter settings, leading to more efficient training.\n",
    "* Try different network architectures\n",
    "* We could train the agents using other algorithms like PPO or A2C and compare the results\n",
    "\n",
    "## References\n",
    "\n",
    "\n",
    "* the code for the DDPG algorithm builds on the implementation in Udacity's DRLND repository (https://github.com/udacity/deep-reinforcement-learning)\n",
    "* DDPG: https://arxiv.org/abs/1509.02971"
   ]
  }
 ],
 "metadata": {
  "kernelspec": {
   "display_name": "Python 3",
   "language": "python",
   "name": "python3"
  },
  "language_info": {
   "codemirror_mode": {
    "name": "ipython",
    "version": 3
   },
   "file_extension": ".py",
   "mimetype": "text/x-python",
   "name": "python",
   "nbconvert_exporter": "python",
   "pygments_lexer": "ipython3",
   "version": "3.6.3"
  }
 },
 "nbformat": 4,
 "nbformat_minor": 2
}
